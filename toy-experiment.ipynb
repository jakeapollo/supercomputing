{
 "cells": [
  {
   "cell_type": "code",
   "execution_count": 5,
   "metadata": {},
   "outputs": [],
   "source": [
    "import numpy as np\n",
    "import matplotlib.pyplot as plt\n",
    "import torch\n",
    "import torch.nn as nn\n",
    "import torch.nn.functional as F\n",
    "import itertools\n",
    "from torch.utils.data import Dataset, DataLoader"
   ]
  },
  {
   "cell_type": "code",
   "execution_count": 6,
   "metadata": {},
   "outputs": [],
   "source": [
    "# generate a pytorch dataset. Each datapoint is a n-dimensional k_hot vector, so the dataset has size\n",
    "# (n, n choose k)\n",
    "def generate_dataset(n, k, l):\n",
    "    dataset = []\n",
    "    for x in itertools.combinations(range(n), k):\n",
    "        y = np.zeros(n)\n",
    "        y[list(x)] = 1\n",
    "        dataset.append(y)\n",
    "    return [(torch.tensor(x).float(), torch.tensor(np.random.randint(1, l + 1))) for x in dataset]\n",
    "\n",
    "\n",
    "dataset = generate_dataset(10, 3, 5)\n",
    "dataloader = DataLoader(dataset, batch_size=1, shuffle=True)"
   ]
  },
  {
   "cell_type": "code",
   "execution_count": null,
   "metadata": {},
   "outputs": [],
   "source": [
    "# same as below but using torch\n",
    "class Net(nn.Module):\n",
    "    def __init__(self, n, dataset):\n",
    "        super(Net, self).__init__()\n",
    "        p = (np.log(n) / n) ** 0.5\n",
    "        self.fc1 = nn.Linear(n, n)\n",
    "        self.fc1.weight.data = torch.binomial((n, n), p)\n",
    "        self.fc1.bias.data = torch.ones(n)\n",
    "        l = dataset\n",
    "\n",
    "    def forward(self, x):\n",
    "        x = self.sigmoid(self.fc1(x))\n",
    "        x = self.sigmoid(self.fc2(x))\n",
    "        return self.sigmoid(self.fc3(x))"
   ]
  },
  {
   "cell_type": "code",
   "execution_count": 2,
   "metadata": {},
   "outputs": [],
   "source": [
    "n = 20000\n",
    "p = (np.log(n) / n) ** 0.5\n",
    "\n",
    "W = np.random.binomial(1, p, size=(n, n))\n",
    "# plt.imshow(W)\n",
    "# plt.colorbar()"
   ]
  },
  {
   "cell_type": "code",
   "execution_count": 3,
   "metadata": {},
   "outputs": [
    {
     "name": "stdout",
     "output_type": "stream",
     "text": [
      "0.9999999999999999\n",
      "[0.02838951]\n"
     ]
    }
   ],
   "source": [
    "x = np.zeros(n)\n",
    "k = 2\n",
    "x[0:k] = 1\n",
    "\n",
    "\n",
    "def relu(x):\n",
    "    return np.maximum(x, 0)\n",
    "\n",
    "\n",
    "a = relu(W.dot(x) - 1)\n",
    "a = a / np.linalg.norm(a)\n",
    "direction = W[:, 0] & W[:, 1]\n",
    "direction = direction / np.linalg.norm(direction)\n",
    "\n",
    "max_rand_dot = 0\n",
    "for i in range(1000):\n",
    "    d = np.random.randint(0, 2, size=(n, 1))\n",
    "    d = d / np.linalg.norm(d)\n",
    "    dot = np.dot(a, d)\n",
    "    if dot > max_rand_dot:\n",
    "        max_rand_dot = dot\n",
    "\n",
    "print(np.dot(a, direction))\n",
    "print(max_rand_dot)"
   ]
  },
  {
   "cell_type": "code",
   "execution_count": 26,
   "metadata": {},
   "outputs": [
    {
     "name": "stdout",
     "output_type": "stream",
     "text": [
      "99.0\n"
     ]
    }
   ],
   "source": [
    "print(a.sum())"
   ]
  }
 ],
 "metadata": {
  "kernelspec": {
   "display_name": "rib-env",
   "language": "python",
   "name": "python3"
  },
  "language_info": {
   "codemirror_mode": {
    "name": "ipython",
    "version": 3
   },
   "file_extension": ".py",
   "mimetype": "text/x-python",
   "name": "python",
   "nbconvert_exporter": "python",
   "pygments_lexer": "ipython3",
   "version": "3.10.13"
  }
 },
 "nbformat": 4,
 "nbformat_minor": 2
}
