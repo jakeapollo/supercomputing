{
 "cells": [
  {
   "cell_type": "code",
   "execution_count": null,
   "metadata": {},
   "outputs": [],
   "source": [
    "import os\n",
    "\n",
    "import matplotlib.pyplot as plt\n",
    "import numpy as np\n",
    "import torch as t\n",
    "import torch.nn as nn\n",
    "from torch.utils.data import DataLoader, Dataset\n",
    "from tqdm import tqdm\n",
    "import numpy as np"
   ]
  },
  {
   "cell_type": "code",
   "execution_count": null,
   "metadata": {},
   "outputs": [],
   "source": [
    "import scipy.stats as stats\n",
    "\n",
    "# parameters\n",
    "dfn = 10  # replace with your degrees of freedom numerator\n",
    "dfd = 20  # replace with your degrees of freedom denominator\n",
    "x = 3.0  # the threshold for the tail\n",
    "\n",
    "# compute the CDF\n",
    "cdf_value = stats.f.cdf(x, dfn, dfd)\n",
    "\n",
    "print(\n",
    "    f\"The cumulative distribution function (CDF) at x = {x} for an F-distribution with {dfn} and {dfd} degrees of freedom is {cdf_value}.\"\n",
    ")"
   ]
  },
  {
   "cell_type": "code",
   "execution_count": null,
   "metadata": {},
   "outputs": [],
   "source": [
    "def prob_variance_explained(explained_variance, dimension, compositeness):\n",
    "    dfn = dimension - compositeness\n",
    "    dfd = compositeness\n",
    "    x = 1 / explained_variance - 1\n",
    "    threshold = dfd / dfn * x\n",
    "    return stats.f.cdf(threshold, dfn, dfd)\n",
    "\n",
    "\n",
    "compositenesses = np.array(range(50, 150))\n",
    "variance = 0.92\n",
    "dimension = 768\n",
    "probs = np.array([prob_variance_explained(variance, 768, c) for c in compositenesses])\n",
    "logprobs = np.log10(probs)\n",
    "logsamples = [0] + [-k * np.log10(25000) + (k * np.log10(k) - k) for k in compositenesses[1:]]\n",
    "plt.plot(compositenesses, logprobs)\n",
    "plt.plot(compositenesses, logsamples)\n",
    "plt.xlabel(\"compositeness\")\n",
    "plt.show()\n",
    "plt.plot(compositenesses, probs)"
   ]
  }
 ],
 "metadata": {
  "kernelspec": {
   "display_name": "supercompute-env",
   "language": "python",
   "name": "python3"
  },
  "language_info": {
   "codemirror_mode": {
    "name": "ipython",
    "version": 3
   },
   "file_extension": ".py",
   "mimetype": "text/x-python",
   "name": "python",
   "nbconvert_exporter": "python",
   "pygments_lexer": "ipython3",
   "version": "3.10.13"
  }
 },
 "nbformat": 4,
 "nbformat_minor": 2
}
